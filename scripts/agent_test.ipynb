{
 "cells": [
  {
   "cell_type": "markdown",
   "metadata": {},
   "source": [
    "## OpenAI calling"
   ]
  },
  {
   "cell_type": "code",
   "execution_count": 27,
   "metadata": {},
   "outputs": [
    {
     "name": "stdout",
     "output_type": "stream",
     "text": [
      "Requirement already satisfied: openai in c:\\code\\hackthon2025\\autovend\\scripts\\.venv\\lib\\site-packages (1.72.0)\n",
      "Requirement already satisfied: anyio<5,>=3.5.0 in c:\\code\\hackthon2025\\autovend\\scripts\\.venv\\lib\\site-packages (from openai) (4.9.0)\n",
      "Requirement already satisfied: distro<2,>=1.7.0 in c:\\code\\hackthon2025\\autovend\\scripts\\.venv\\lib\\site-packages (from openai) (1.9.0)\n",
      "Requirement already satisfied: httpx<1,>=0.23.0 in c:\\code\\hackthon2025\\autovend\\scripts\\.venv\\lib\\site-packages (from openai) (0.28.1)\n",
      "Requirement already satisfied: jiter<1,>=0.4.0 in c:\\code\\hackthon2025\\autovend\\scripts\\.venv\\lib\\site-packages (from openai) (0.9.0)\n",
      "Requirement already satisfied: pydantic<3,>=1.9.0 in c:\\code\\hackthon2025\\autovend\\scripts\\.venv\\lib\\site-packages (from openai) (2.11.3)\n",
      "Requirement already satisfied: sniffio in c:\\code\\hackthon2025\\autovend\\scripts\\.venv\\lib\\site-packages (from openai) (1.3.1)\n",
      "Requirement already satisfied: tqdm>4 in c:\\code\\hackthon2025\\autovend\\scripts\\.venv\\lib\\site-packages (from openai) (4.67.1)\n",
      "Requirement already satisfied: typing-extensions<5,>=4.11 in c:\\code\\hackthon2025\\autovend\\scripts\\.venv\\lib\\site-packages (from openai) (4.13.1)\n",
      "Requirement already satisfied: idna>=2.8 in c:\\code\\hackthon2025\\autovend\\scripts\\.venv\\lib\\site-packages (from anyio<5,>=3.5.0->openai) (3.10)\n",
      "Requirement already satisfied: certifi in c:\\code\\hackthon2025\\autovend\\scripts\\.venv\\lib\\site-packages (from httpx<1,>=0.23.0->openai) (2025.1.31)\n",
      "Requirement already satisfied: httpcore==1.* in c:\\code\\hackthon2025\\autovend\\scripts\\.venv\\lib\\site-packages (from httpx<1,>=0.23.0->openai) (1.0.7)\n",
      "Requirement already satisfied: h11<0.15,>=0.13 in c:\\code\\hackthon2025\\autovend\\scripts\\.venv\\lib\\site-packages (from httpcore==1.*->httpx<1,>=0.23.0->openai) (0.14.0)\n",
      "Requirement already satisfied: annotated-types>=0.6.0 in c:\\code\\hackthon2025\\autovend\\scripts\\.venv\\lib\\site-packages (from pydantic<3,>=1.9.0->openai) (0.7.0)\n",
      "Requirement already satisfied: pydantic-core==2.33.1 in c:\\code\\hackthon2025\\autovend\\scripts\\.venv\\lib\\site-packages (from pydantic<3,>=1.9.0->openai) (2.33.1)\n",
      "Requirement already satisfied: typing-inspection>=0.4.0 in c:\\code\\hackthon2025\\autovend\\scripts\\.venv\\lib\\site-packages (from pydantic<3,>=1.9.0->openai) (0.4.0)\n",
      "Requirement already satisfied: colorama in c:\\code\\hackthon2025\\autovend\\scripts\\.venv\\lib\\site-packages (from tqdm>4->openai) (0.4.6)\n"
     ]
    }
   ],
   "source": [
    "!pip install openai"
   ]
  },
  {
   "cell_type": "code",
   "execution_count": 1,
   "metadata": {},
   "outputs": [],
   "source": [
    "import openai"
   ]
  },
  {
   "cell_type": "code",
   "execution_count": 2,
   "metadata": {},
   "outputs": [
    {
     "data": {
      "text/plain": [
       "'1.72.0'"
      ]
     },
     "execution_count": 2,
     "metadata": {},
     "output_type": "execute_result"
    }
   ],
   "source": [
    "openai.__version__"
   ]
  },
  {
   "cell_type": "code",
   "execution_count": 3,
   "metadata": {},
   "outputs": [
    {
     "data": {
      "text/plain": [
       "True"
      ]
     },
     "execution_count": 3,
     "metadata": {},
     "output_type": "execute_result"
    }
   ],
   "source": [
    "from openai import OpenAI\n",
    "import os\n",
    "from dotenv import load_dotenv\n",
    "load_dotenv(override=True)"
   ]
  },
  {
   "cell_type": "code",
   "execution_count": 4,
   "metadata": {},
   "outputs": [],
   "source": [
    "API_KEY = os.getenv(\"API_KEY\")"
   ]
  },
  {
   "cell_type": "code",
   "execution_count": 5,
   "metadata": {},
   "outputs": [],
   "source": [
    "\n",
    "client = OpenAI(api_key=API_KEY, \n",
    "                base_url=\"https://api.deepseek.com\")\n",
    "\n",
    "response = client.chat.completions.create(\n",
    "    model=\"deepseek-chat\",\n",
    "    messages=[\n",
    "        {\"role\": \"user\", \"content\": \"long time no see, please introduce yourself\"}\n",
    "    ]\n",
    ")"
   ]
  },
  {
   "cell_type": "code",
   "execution_count": 6,
   "metadata": {},
   "outputs": [
    {
     "name": "stdout",
     "output_type": "stream",
     "text": [
      "\"Long time no see\" indeed! 😊  \n",
      "\n",
      "I’m **DeepSeek Chat**, your AI assistant created by **DeepSeek**. I’m here to help you with:  \n",
      "- **Answering questions** 📚 (from science to pop culture)  \n",
      "- **Brainstorming ideas** 💡 (essays, projects, creative writing)  \n",
      "- **Coding & tech help** 💻 (Python, debugging, algorithms)  \n",
      "- **Language support** 🌍 (translation, grammar checks)  \n",
      "- **File analysis** 📂 (PDFs, Word, Excel, etc.)  \n",
      "\n",
      "I’m **free**, **knowledgeable up to July 2024**, and love **detailed, friendly chats**! How can I assist you today? 😊\n"
     ]
    }
   ],
   "source": [
    "print(response.choices[0].message.content)"
   ]
  },
  {
   "cell_type": "markdown",
   "metadata": {},
   "source": [
    "## agent SDK"
   ]
  },
  {
   "cell_type": "code",
   "execution_count": 7,
   "metadata": {},
   "outputs": [
    {
     "name": "stdout",
     "output_type": "stream",
     "text": [
      "Requirement already satisfied: openai-agents in c:\\code\\hackthon2025\\autovend\\scripts\\.venv\\lib\\site-packages (0.0.9)\n",
      "Requirement already satisfied: griffe<2,>=1.5.6 in c:\\code\\hackthon2025\\autovend\\scripts\\.venv\\lib\\site-packages (from openai-agents) (1.7.2)\n",
      "Requirement already satisfied: mcp<2,>=1.6.0 in c:\\code\\hackthon2025\\autovend\\scripts\\.venv\\lib\\site-packages (from openai-agents) (1.6.0)\n",
      "Requirement already satisfied: openai>=1.66.5 in c:\\code\\hackthon2025\\autovend\\scripts\\.venv\\lib\\site-packages (from openai-agents) (1.72.0)\n",
      "Requirement already satisfied: pydantic<3,>=2.10 in c:\\code\\hackthon2025\\autovend\\scripts\\.venv\\lib\\site-packages (from openai-agents) (2.11.3)\n",
      "Requirement already satisfied: requests<3,>=2.0 in c:\\code\\hackthon2025\\autovend\\scripts\\.venv\\lib\\site-packages (from openai-agents) (2.32.3)\n",
      "Requirement already satisfied: types-requests<3,>=2.0 in c:\\code\\hackthon2025\\autovend\\scripts\\.venv\\lib\\site-packages (from openai-agents) (2.32.0.20250328)\n",
      "Requirement already satisfied: typing-extensions<5,>=4.12.2 in c:\\code\\hackthon2025\\autovend\\scripts\\.venv\\lib\\site-packages (from openai-agents) (4.13.1)\n",
      "Requirement already satisfied: colorama>=0.4 in c:\\code\\hackthon2025\\autovend\\scripts\\.venv\\lib\\site-packages (from griffe<2,>=1.5.6->openai-agents) (0.4.6)\n",
      "Requirement already satisfied: anyio>=4.5 in c:\\code\\hackthon2025\\autovend\\scripts\\.venv\\lib\\site-packages (from mcp<2,>=1.6.0->openai-agents) (4.9.0)\n",
      "Requirement already satisfied: httpx-sse>=0.4 in c:\\code\\hackthon2025\\autovend\\scripts\\.venv\\lib\\site-packages (from mcp<2,>=1.6.0->openai-agents) (0.4.0)\n",
      "Requirement already satisfied: httpx>=0.27 in c:\\code\\hackthon2025\\autovend\\scripts\\.venv\\lib\\site-packages (from mcp<2,>=1.6.0->openai-agents) (0.28.1)\n",
      "Requirement already satisfied: pydantic-settings>=2.5.2 in c:\\code\\hackthon2025\\autovend\\scripts\\.venv\\lib\\site-packages (from mcp<2,>=1.6.0->openai-agents) (2.8.1)\n",
      "Requirement already satisfied: sse-starlette>=1.6.1 in c:\\code\\hackthon2025\\autovend\\scripts\\.venv\\lib\\site-packages (from mcp<2,>=1.6.0->openai-agents) (2.2.1)\n",
      "Requirement already satisfied: starlette>=0.27 in c:\\code\\hackthon2025\\autovend\\scripts\\.venv\\lib\\site-packages (from mcp<2,>=1.6.0->openai-agents) (0.46.1)\n",
      "Requirement already satisfied: uvicorn>=0.23.1 in c:\\code\\hackthon2025\\autovend\\scripts\\.venv\\lib\\site-packages (from mcp<2,>=1.6.0->openai-agents) (0.34.0)\n",
      "Requirement already satisfied: distro<2,>=1.7.0 in c:\\code\\hackthon2025\\autovend\\scripts\\.venv\\lib\\site-packages (from openai>=1.66.5->openai-agents) (1.9.0)\n",
      "Requirement already satisfied: jiter<1,>=0.4.0 in c:\\code\\hackthon2025\\autovend\\scripts\\.venv\\lib\\site-packages (from openai>=1.66.5->openai-agents) (0.9.0)\n",
      "Requirement already satisfied: sniffio in c:\\code\\hackthon2025\\autovend\\scripts\\.venv\\lib\\site-packages (from openai>=1.66.5->openai-agents) (1.3.1)\n",
      "Requirement already satisfied: tqdm>4 in c:\\code\\hackthon2025\\autovend\\scripts\\.venv\\lib\\site-packages (from openai>=1.66.5->openai-agents) (4.67.1)\n",
      "Requirement already satisfied: annotated-types>=0.6.0 in c:\\code\\hackthon2025\\autovend\\scripts\\.venv\\lib\\site-packages (from pydantic<3,>=2.10->openai-agents) (0.7.0)\n",
      "Requirement already satisfied: pydantic-core==2.33.1 in c:\\code\\hackthon2025\\autovend\\scripts\\.venv\\lib\\site-packages (from pydantic<3,>=2.10->openai-agents) (2.33.1)\n",
      "Requirement already satisfied: typing-inspection>=0.4.0 in c:\\code\\hackthon2025\\autovend\\scripts\\.venv\\lib\\site-packages (from pydantic<3,>=2.10->openai-agents) (0.4.0)\n",
      "Requirement already satisfied: charset-normalizer<4,>=2 in c:\\code\\hackthon2025\\autovend\\scripts\\.venv\\lib\\site-packages (from requests<3,>=2.0->openai-agents) (3.4.1)\n",
      "Requirement already satisfied: idna<4,>=2.5 in c:\\code\\hackthon2025\\autovend\\scripts\\.venv\\lib\\site-packages (from requests<3,>=2.0->openai-agents) (3.10)\n",
      "Requirement already satisfied: urllib3<3,>=1.21.1 in c:\\code\\hackthon2025\\autovend\\scripts\\.venv\\lib\\site-packages (from requests<3,>=2.0->openai-agents) (2.3.0)\n",
      "Requirement already satisfied: certifi>=2017.4.17 in c:\\code\\hackthon2025\\autovend\\scripts\\.venv\\lib\\site-packages (from requests<3,>=2.0->openai-agents) (2025.1.31)\n",
      "Requirement already satisfied: httpcore==1.* in c:\\code\\hackthon2025\\autovend\\scripts\\.venv\\lib\\site-packages (from httpx>=0.27->mcp<2,>=1.6.0->openai-agents) (1.0.7)\n",
      "Requirement already satisfied: h11<0.15,>=0.13 in c:\\code\\hackthon2025\\autovend\\scripts\\.venv\\lib\\site-packages (from httpcore==1.*->httpx>=0.27->mcp<2,>=1.6.0->openai-agents) (0.14.0)\n",
      "Requirement already satisfied: python-dotenv>=0.21.0 in c:\\code\\hackthon2025\\autovend\\scripts\\.venv\\lib\\site-packages (from pydantic-settings>=2.5.2->mcp<2,>=1.6.0->openai-agents) (1.1.0)\n",
      "Requirement already satisfied: click>=7.0 in c:\\code\\hackthon2025\\autovend\\scripts\\.venv\\lib\\site-packages (from uvicorn>=0.23.1->mcp<2,>=1.6.0->openai-agents) (8.1.8)\n"
     ]
    }
   ],
   "source": [
    "!pip install openai-agents"
   ]
  },
  {
   "cell_type": "code",
   "execution_count": null,
   "metadata": {},
   "outputs": [
    {
     "name": "stderr",
     "output_type": "stream",
     "text": [
      "[non-fatal] Tracing: request failed: [WinError 10054] An existing connection was forcibly closed by the remote host\n",
      "[non-fatal] Tracing: request failed: [WinError 10054] An existing connection was forcibly closed by the remote host\n",
      "[non-fatal] Tracing: request failed: [WinError 10054] An existing connection was forcibly closed by the remote host\n",
      "[non-fatal] Tracing: max retries reached, giving up on this batch.\n"
     ]
    },
    {
     "name": "stdout",
     "output_type": "stream",
     "text": [
      "**Sales Pitch: Introducing the 2024 [Brand/Model] – The Perfect Car for You!**  \n",
      "\n",
      "**Me:** *\"Hello! I noticed you're looking for a new car—what’s most important to you in your next vehicle? Performance, comfort, technology, or maybe fuel efficiency?\"*  \n",
      "\n",
      "*(Based on your answer, I’d tailor the pitch. But here’s a general approach:)*  \n",
      "\n",
      "### **Why This Car?**  \n",
      "1. **Cutting-Edge Technology** – This model comes with a **12-inch touchscreen**, Apple CarPlay/Android Auto, wireless charging, and a premium sound system. Plus, advanced safety features like **adaptive cruise control, lane-keeping assist, and automatic emergency braking** keep you protected.  \n",
      "\n",
      "2. **Power & Efficiency** – The turbocharged **2.0L engine** delivers **250 horsepower** while still getting **32 MPG highway**—perfect for both thrill-seekers and daily commuters.  \n",
      "\n",
      "3. **Luxury Comfort** – Heated/ventilated leather seats, dual-zone climate control, and a whisper-quiet cabin make every drive feel like first-class.  \n",
      "\n",
      "4. **Unbeatable Value** – With a **5-year/60,000-mile warranty** and low financing rates (starting at **2.9% APR**), you’re getting reliability *and* affordability.  \n",
      "\n",
      "### **Closing the Deal**  \n",
      "*\"I’ve had customers say this car is the perfect blend of sporty and practical—would you like to take it for a test drive and feel the difference yourself?\"*  \n",
      "\n",
      "*(If you hesitate:)*  \n",
      "*\"We also have special lease options—only **$399/month** with $2,000 down. And right now, we’re offering free maintenance for the first year!\"*  \n",
      "\n",
      "**What do you think?** Would you prefer a sedan, SUV, or something sportier? 😊  \n",
      "\n",
      "*(A good salesperson listens first—so I’d adjust based on your needs!)* 🚗💨\n"
     ]
    },
    {
     "name": "stderr",
     "output_type": "stream",
     "text": [
      "[non-fatal] Tracing: request failed: [WinError 10054] An existing connection was forcibly closed by the remote host\n",
      "[non-fatal] Tracing: request failed: [WinError 10054] An existing connection was forcibly closed by the remote host\n",
      "[non-fatal] Tracing: request failed: [WinError 10054] An existing connection was forcibly closed by the remote host\n",
      "[non-fatal] Tracing: max retries reached, giving up on this batch.\n",
      "[non-fatal] Tracing: request failed: [WinError 10054] An existing connection was forcibly closed by the remote host\n",
      "[non-fatal] Tracing: request failed: [WinError 10054] An existing connection was forcibly closed by the remote host\n",
      "[non-fatal] Tracing: request failed: [WinError 10054] An existing connection was forcibly closed by the remote host\n",
      "[non-fatal] Tracing: max retries reached, giving up on this batch.\n",
      "[non-fatal] Tracing: request failed: [WinError 10054] An existing connection was forcibly closed by the remote host\n",
      "[non-fatal] Tracing: request failed: [WinError 10054] An existing connection was forcibly closed by the remote host\n",
      "[non-fatal] Tracing: request failed: [WinError 10054] An existing connection was forcibly closed by the remote host\n",
      "[non-fatal] Tracing: max retries reached, giving up on this batch.\n",
      "[non-fatal] Tracing: request failed: [WinError 10054] An existing connection was forcibly closed by the remote host\n",
      "[non-fatal] Tracing: request failed: [WinError 10054] An existing connection was forcibly closed by the remote host\n",
      "[non-fatal] Tracing: request failed: [WinError 10054] An existing connection was forcibly closed by the remote host\n",
      "[non-fatal] Tracing: max retries reached, giving up on this batch.\n",
      "[non-fatal] Tracing: request failed: [WinError 10054] An existing connection was forcibly closed by the remote host\n",
      "[non-fatal] Tracing: request failed: [WinError 10054] An existing connection was forcibly closed by the remote host\n",
      "[non-fatal] Tracing: request failed: [WinError 10054] An existing connection was forcibly closed by the remote host\n",
      "[non-fatal] Tracing: max retries reached, giving up on this batch.\n",
      "[non-fatal] Tracing: request failed: [WinError 10054] An existing connection was forcibly closed by the remote host\n",
      "[non-fatal] Tracing: request failed: [WinError 10054] An existing connection was forcibly closed by the remote host\n",
      "[non-fatal] Tracing: request failed: [WinError 10054] An existing connection was forcibly closed by the remote host\n",
      "[non-fatal] Tracing: max retries reached, giving up on this batch.\n",
      "[non-fatal] Tracing: request failed: [WinError 10054] An existing connection was forcibly closed by the remote host\n",
      "[non-fatal] Tracing: request failed: [WinError 10054] An existing connection was forcibly closed by the remote host\n",
      "[non-fatal] Tracing: request failed: [WinError 10054] An existing connection was forcibly closed by the remote host\n",
      "[non-fatal] Tracing: max retries reached, giving up on this batch.\n",
      "[non-fatal] Tracing: request failed: [WinError 10054] An existing connection was forcibly closed by the remote host\n",
      "[non-fatal] Tracing: request failed: [WinError 10054] An existing connection was forcibly closed by the remote host\n",
      "[non-fatal] Tracing: request failed: [WinError 10054] An existing connection was forcibly closed by the remote host\n",
      "[non-fatal] Tracing: max retries reached, giving up on this batch.\n",
      "[non-fatal] Tracing: request failed: [WinError 10054] An existing connection was forcibly closed by the remote host\n",
      "[non-fatal] Tracing: request failed: [WinError 10054] An existing connection was forcibly closed by the remote host\n",
      "[non-fatal] Tracing: request failed: [WinError 10054] An existing connection was forcibly closed by the remote host\n",
      "[non-fatal] Tracing: max retries reached, giving up on this batch.\n",
      "[non-fatal] Tracing: request failed: [WinError 10054] An existing connection was forcibly closed by the remote host\n",
      "[non-fatal] Tracing: request failed: [WinError 10054] An existing connection was forcibly closed by the remote host\n",
      "[non-fatal] Tracing: request failed: [WinError 10054] An existing connection was forcibly closed by the remote host\n",
      "[non-fatal] Tracing: max retries reached, giving up on this batch.\n",
      "[non-fatal] Tracing: request failed: [WinError 10054] An existing connection was forcibly closed by the remote host\n",
      "[non-fatal] Tracing: request failed: [WinError 10054] An existing connection was forcibly closed by the remote host\n",
      "[non-fatal] Tracing: request failed: [WinError 10054] An existing connection was forcibly closed by the remote host\n",
      "[non-fatal] Tracing: max retries reached, giving up on this batch.\n",
      "[non-fatal] Tracing: request failed: [WinError 10054] An existing connection was forcibly closed by the remote host\n",
      "[non-fatal] Tracing: request failed: [WinError 10054] An existing connection was forcibly closed by the remote host\n",
      "[non-fatal] Tracing: request failed: [WinError 10054] An existing connection was forcibly closed by the remote host\n",
      "[non-fatal] Tracing: max retries reached, giving up on this batch.\n",
      "[non-fatal] Tracing: request failed: [WinError 10054] An existing connection was forcibly closed by the remote host\n",
      "[non-fatal] Tracing: request failed: [WinError 10054] An existing connection was forcibly closed by the remote host\n",
      "[non-fatal] Tracing: request failed: [WinError 10054] An existing connection was forcibly closed by the remote host\n",
      "[non-fatal] Tracing: max retries reached, giving up on this batch.\n",
      "[non-fatal] Tracing: request failed: [WinError 10054] An existing connection was forcibly closed by the remote host\n",
      "[non-fatal] Tracing: request failed: [WinError 10054] An existing connection was forcibly closed by the remote host\n",
      "[non-fatal] Tracing: request failed: [WinError 10054] An existing connection was forcibly closed by the remote host\n",
      "[non-fatal] Tracing: max retries reached, giving up on this batch.\n",
      "[non-fatal] Tracing: request failed: [WinError 10054] An existing connection was forcibly closed by the remote host\n",
      "[non-fatal] Tracing: request failed: [WinError 10054] An existing connection was forcibly closed by the remote host\n",
      "[non-fatal] Tracing: request failed: [WinError 10054] An existing connection was forcibly closed by the remote host\n",
      "[non-fatal] Tracing: max retries reached, giving up on this batch.\n",
      "[non-fatal] Tracing: request failed: [WinError 10054] An existing connection was forcibly closed by the remote host\n",
      "[non-fatal] Tracing: request failed: [WinError 10054] An existing connection was forcibly closed by the remote host\n",
      "[non-fatal] Tracing: request failed: [WinError 10054] An existing connection was forcibly closed by the remote host\n",
      "[non-fatal] Tracing: max retries reached, giving up on this batch.\n",
      "[non-fatal] Tracing: request failed: [WinError 10054] An existing connection was forcibly closed by the remote host\n",
      "[non-fatal] Tracing: request failed: [WinError 10054] An existing connection was forcibly closed by the remote host\n",
      "[non-fatal] Tracing: request failed: [WinError 10054] An existing connection was forcibly closed by the remote host\n",
      "[non-fatal] Tracing: max retries reached, giving up on this batch.\n",
      "[non-fatal] Tracing: request failed: [WinError 10054] An existing connection was forcibly closed by the remote host\n",
      "[non-fatal] Tracing: request failed: [WinError 10054] An existing connection was forcibly closed by the remote host\n",
      "[non-fatal] Tracing: request failed: [WinError 10054] An existing connection was forcibly closed by the remote host\n",
      "[non-fatal] Tracing: max retries reached, giving up on this batch.\n",
      "[non-fatal] Tracing: request failed: [WinError 10054] An existing connection was forcibly closed by the remote host\n",
      "[non-fatal] Tracing: request failed: [WinError 10054] An existing connection was forcibly closed by the remote host\n",
      "[non-fatal] Tracing: request failed: [WinError 10054] An existing connection was forcibly closed by the remote host\n",
      "[non-fatal] Tracing: max retries reached, giving up on this batch.\n",
      "[non-fatal] Tracing: request failed: [WinError 10054] An existing connection was forcibly closed by the remote host\n",
      "[non-fatal] Tracing: request failed: [WinError 10054] An existing connection was forcibly closed by the remote host\n",
      "[non-fatal] Tracing: request failed: [WinError 10054] An existing connection was forcibly closed by the remote host\n",
      "[non-fatal] Tracing: max retries reached, giving up on this batch.\n",
      "[non-fatal] Tracing: request failed: [WinError 10054] An existing connection was forcibly closed by the remote host\n",
      "[non-fatal] Tracing: request failed: [WinError 10054] An existing connection was forcibly closed by the remote host\n",
      "[non-fatal] Tracing: request failed: [WinError 10054] An existing connection was forcibly closed by the remote host\n",
      "[non-fatal] Tracing: max retries reached, giving up on this batch.\n",
      "[non-fatal] Tracing: request failed: [WinError 10054] An existing connection was forcibly closed by the remote host\n",
      "[non-fatal] Tracing: request failed: [WinError 10054] An existing connection was forcibly closed by the remote host\n",
      "[non-fatal] Tracing: request failed: [WinError 10054] An existing connection was forcibly closed by the remote host\n",
      "[non-fatal] Tracing: max retries reached, giving up on this batch.\n",
      "[non-fatal] Tracing: request failed: [WinError 10054] An existing connection was forcibly closed by the remote host\n",
      "[non-fatal] Tracing: request failed: [WinError 10054] An existing connection was forcibly closed by the remote host\n",
      "[non-fatal] Tracing: request failed: [WinError 10054] An existing connection was forcibly closed by the remote host\n",
      "[non-fatal] Tracing: max retries reached, giving up on this batch.\n"
     ]
    }
   ],
   "source": [
    "from openai import AsyncOpenAI\n",
    "from agents import OpenAIChatCompletionsModel,Agent,Runner,set_default_openai_client\n",
    "from agents.model_settings import ModelSettings\n",
    "\n",
    "external_client = AsyncOpenAI(\n",
    "    base_url = \"https://api.deepseek.com\",\n",
    "    api_key=API_KEY, \n",
    ")\n",
    "set_default_openai_client(external_client)\n",
    "deepseek_model = OpenAIChatCompletionsModel(\n",
    "    model=\"deepseek-chat\",\n",
    "    openai_client=external_client)\n",
    "agent = Agent(name=\"Assistant\", \n",
    "              instructions=\"you are a smart automobile sealer\",\n",
    "              model=deepseek_model)\n",
    "result = await Runner.run(agent, \"try to sale a car to me\") \n",
    "print(result.final_output)"
   ]
  },
  {
   "cell_type": "code",
   "execution_count": 9,
   "metadata": {},
   "outputs": [
    {
     "data": {
      "text/plain": [
       "RunResult(input='try to sale a car to me', new_items=[MessageOutputItem(agent=Agent(name='Assistant', instructions='you are a smart automobile sealer', handoff_description=None, handoffs=[], model=<agents.models.openai_chatcompletions.OpenAIChatCompletionsModel object at 0x0000027ABCC7ECF0>, model_settings=ModelSettings(temperature=None, top_p=None, frequency_penalty=None, presence_penalty=None, tool_choice=None, parallel_tool_calls=None, truncation=None, max_tokens=None, reasoning=None, metadata=None, store=None), tools=[], mcp_servers=[], mcp_config={}, input_guardrails=[], output_guardrails=[], output_type=None, hooks=None, tool_use_behavior='run_llm_again', reset_tool_choice=True), raw_item=ResponseOutputMessage(id='__fake_id__', content=[ResponseOutputText(annotations=[], text='**Sales Pitch: Introducing the 2024 [Brand/Model] – The Perfect Car for You!**  \\n\\n**Me:** *\"Hello! I noticed you\\'re looking for a new car—what’s most important to you in your next vehicle? Performance, comfort, technology, or maybe fuel efficiency?\"*  \\n\\n*(Based on your answer, I’d tailor the pitch. But here’s a general approach:)*  \\n\\n### **Why This Car?**  \\n1. **Cutting-Edge Technology** – This model comes with a **12-inch touchscreen**, Apple CarPlay/Android Auto, wireless charging, and a premium sound system. Plus, advanced safety features like **adaptive cruise control, lane-keeping assist, and automatic emergency braking** keep you protected.  \\n\\n2. **Power & Efficiency** – The turbocharged **2.0L engine** delivers **250 horsepower** while still getting **32 MPG highway**—perfect for both thrill-seekers and daily commuters.  \\n\\n3. **Luxury Comfort** – Heated/ventilated leather seats, dual-zone climate control, and a whisper-quiet cabin make every drive feel like first-class.  \\n\\n4. **Unbeatable Value** – With a **5-year/60,000-mile warranty** and low financing rates (starting at **2.9% APR**), you’re getting reliability *and* affordability.  \\n\\n### **Closing the Deal**  \\n*\"I’ve had customers say this car is the perfect blend of sporty and practical—would you like to take it for a test drive and feel the difference yourself?\"*  \\n\\n*(If you hesitate:)*  \\n*\"We also have special lease options—only **$399/month** with $2,000 down. And right now, we’re offering free maintenance for the first year!\"*  \\n\\n**What do you think?** Would you prefer a sedan, SUV, or something sportier? 😊  \\n\\n*(A good salesperson listens first—so I’d adjust based on your needs!)* 🚗💨', type='output_text')], role='assistant', status='completed', type='message'), type='message_output_item')], raw_responses=[ModelResponse(output=[ResponseOutputMessage(id='__fake_id__', content=[ResponseOutputText(annotations=[], text='**Sales Pitch: Introducing the 2024 [Brand/Model] – The Perfect Car for You!**  \\n\\n**Me:** *\"Hello! I noticed you\\'re looking for a new car—what’s most important to you in your next vehicle? Performance, comfort, technology, or maybe fuel efficiency?\"*  \\n\\n*(Based on your answer, I’d tailor the pitch. But here’s a general approach:)*  \\n\\n### **Why This Car?**  \\n1. **Cutting-Edge Technology** – This model comes with a **12-inch touchscreen**, Apple CarPlay/Android Auto, wireless charging, and a premium sound system. Plus, advanced safety features like **adaptive cruise control, lane-keeping assist, and automatic emergency braking** keep you protected.  \\n\\n2. **Power & Efficiency** – The turbocharged **2.0L engine** delivers **250 horsepower** while still getting **32 MPG highway**—perfect for both thrill-seekers and daily commuters.  \\n\\n3. **Luxury Comfort** – Heated/ventilated leather seats, dual-zone climate control, and a whisper-quiet cabin make every drive feel like first-class.  \\n\\n4. **Unbeatable Value** – With a **5-year/60,000-mile warranty** and low financing rates (starting at **2.9% APR**), you’re getting reliability *and* affordability.  \\n\\n### **Closing the Deal**  \\n*\"I’ve had customers say this car is the perfect blend of sporty and practical—would you like to take it for a test drive and feel the difference yourself?\"*  \\n\\n*(If you hesitate:)*  \\n*\"We also have special lease options—only **$399/month** with $2,000 down. And right now, we’re offering free maintenance for the first year!\"*  \\n\\n**What do you think?** Would you prefer a sedan, SUV, or something sportier? 😊  \\n\\n*(A good salesperson listens first—so I’d adjust based on your needs!)* 🚗💨', type='output_text')], role='assistant', status='completed', type='message')], usage=Usage(requests=1, input_tokens=17, output_tokens=428, total_tokens=445), referenceable_id=None)], final_output='**Sales Pitch: Introducing the 2024 [Brand/Model] – The Perfect Car for You!**  \\n\\n**Me:** *\"Hello! I noticed you\\'re looking for a new car—what’s most important to you in your next vehicle? Performance, comfort, technology, or maybe fuel efficiency?\"*  \\n\\n*(Based on your answer, I’d tailor the pitch. But here’s a general approach:)*  \\n\\n### **Why This Car?**  \\n1. **Cutting-Edge Technology** – This model comes with a **12-inch touchscreen**, Apple CarPlay/Android Auto, wireless charging, and a premium sound system. Plus, advanced safety features like **adaptive cruise control, lane-keeping assist, and automatic emergency braking** keep you protected.  \\n\\n2. **Power & Efficiency** – The turbocharged **2.0L engine** delivers **250 horsepower** while still getting **32 MPG highway**—perfect for both thrill-seekers and daily commuters.  \\n\\n3. **Luxury Comfort** – Heated/ventilated leather seats, dual-zone climate control, and a whisper-quiet cabin make every drive feel like first-class.  \\n\\n4. **Unbeatable Value** – With a **5-year/60,000-mile warranty** and low financing rates (starting at **2.9% APR**), you’re getting reliability *and* affordability.  \\n\\n### **Closing the Deal**  \\n*\"I’ve had customers say this car is the perfect blend of sporty and practical—would you like to take it for a test drive and feel the difference yourself?\"*  \\n\\n*(If you hesitate:)*  \\n*\"We also have special lease options—only **$399/month** with $2,000 down. And right now, we’re offering free maintenance for the first year!\"*  \\n\\n**What do you think?** Would you prefer a sedan, SUV, or something sportier? 😊  \\n\\n*(A good salesperson listens first—so I’d adjust based on your needs!)* 🚗💨', input_guardrail_results=[], output_guardrail_results=[], _last_agent=Agent(name='Assistant', instructions='you are a smart automobile sealer', handoff_description=None, handoffs=[], model=<agents.models.openai_chatcompletions.OpenAIChatCompletionsModel object at 0x0000027ABCC7ECF0>, model_settings=ModelSettings(temperature=None, top_p=None, frequency_penalty=None, presence_penalty=None, tool_choice=None, parallel_tool_calls=None, truncation=None, max_tokens=None, reasoning=None, metadata=None, store=None), tools=[], mcp_servers=[], mcp_config={}, input_guardrails=[], output_guardrails=[], output_type=None, hooks=None, tool_use_behavior='run_llm_again', reset_tool_choice=True))"
      ]
     },
     "execution_count": 9,
     "metadata": {},
     "output_type": "execute_result"
    }
   ],
   "source": [
    "result"
   ]
  },
  {
   "cell_type": "code",
   "execution_count": 10,
   "metadata": {},
   "outputs": [
    {
     "data": {
      "text/plain": [
       "[MessageOutputItem(agent=Agent(name='Assistant', instructions='you are a smart automobile sealer', handoff_description=None, handoffs=[], model=<agents.models.openai_chatcompletions.OpenAIChatCompletionsModel object at 0x0000027ABCC7ECF0>, model_settings=ModelSettings(temperature=None, top_p=None, frequency_penalty=None, presence_penalty=None, tool_choice=None, parallel_tool_calls=None, truncation=None, max_tokens=None, reasoning=None, metadata=None, store=None), tools=[], mcp_servers=[], mcp_config={}, input_guardrails=[], output_guardrails=[], output_type=None, hooks=None, tool_use_behavior='run_llm_again', reset_tool_choice=True), raw_item=ResponseOutputMessage(id='__fake_id__', content=[ResponseOutputText(annotations=[], text='**Sales Pitch: Introducing the 2024 [Brand/Model] – The Perfect Car for You!**  \\n\\n**Me:** *\"Hello! I noticed you\\'re looking for a new car—what’s most important to you in your next vehicle? Performance, comfort, technology, or maybe fuel efficiency?\"*  \\n\\n*(Based on your answer, I’d tailor the pitch. But here’s a general approach:)*  \\n\\n### **Why This Car?**  \\n1. **Cutting-Edge Technology** – This model comes with a **12-inch touchscreen**, Apple CarPlay/Android Auto, wireless charging, and a premium sound system. Plus, advanced safety features like **adaptive cruise control, lane-keeping assist, and automatic emergency braking** keep you protected.  \\n\\n2. **Power & Efficiency** – The turbocharged **2.0L engine** delivers **250 horsepower** while still getting **32 MPG highway**—perfect for both thrill-seekers and daily commuters.  \\n\\n3. **Luxury Comfort** – Heated/ventilated leather seats, dual-zone climate control, and a whisper-quiet cabin make every drive feel like first-class.  \\n\\n4. **Unbeatable Value** – With a **5-year/60,000-mile warranty** and low financing rates (starting at **2.9% APR**), you’re getting reliability *and* affordability.  \\n\\n### **Closing the Deal**  \\n*\"I’ve had customers say this car is the perfect blend of sporty and practical—would you like to take it for a test drive and feel the difference yourself?\"*  \\n\\n*(If you hesitate:)*  \\n*\"We also have special lease options—only **$399/month** with $2,000 down. And right now, we’re offering free maintenance for the first year!\"*  \\n\\n**What do you think?** Would you prefer a sedan, SUV, or something sportier? 😊  \\n\\n*(A good salesperson listens first—so I’d adjust based on your needs!)* 🚗💨', type='output_text')], role='assistant', status='completed', type='message'), type='message_output_item')]"
      ]
     },
     "execution_count": 10,
     "metadata": {},
     "output_type": "execute_result"
    }
   ],
   "source": [
    "result.new_items"
   ]
  },
  {
   "cell_type": "code",
   "execution_count": 11,
   "metadata": {},
   "outputs": [
    {
     "data": {
      "text/plain": [
       "1"
      ]
     },
     "execution_count": 11,
     "metadata": {},
     "output_type": "execute_result"
    }
   ],
   "source": [
    "len(result.new_items)"
   ]
  },
  {
   "cell_type": "code",
   "execution_count": 12,
   "metadata": {},
   "outputs": [
    {
     "data": {
      "text/plain": [
       "MessageOutputItem(agent=Agent(name='Assistant', instructions='you are a smart automobile sealer', handoff_description=None, handoffs=[], model=<agents.models.openai_chatcompletions.OpenAIChatCompletionsModel object at 0x0000027ABCC7ECF0>, model_settings=ModelSettings(temperature=None, top_p=None, frequency_penalty=None, presence_penalty=None, tool_choice=None, parallel_tool_calls=None, truncation=None, max_tokens=None, reasoning=None, metadata=None, store=None), tools=[], mcp_servers=[], mcp_config={}, input_guardrails=[], output_guardrails=[], output_type=None, hooks=None, tool_use_behavior='run_llm_again', reset_tool_choice=True), raw_item=ResponseOutputMessage(id='__fake_id__', content=[ResponseOutputText(annotations=[], text='**Sales Pitch: Introducing the 2024 [Brand/Model] – The Perfect Car for You!**  \\n\\n**Me:** *\"Hello! I noticed you\\'re looking for a new car—what’s most important to you in your next vehicle? Performance, comfort, technology, or maybe fuel efficiency?\"*  \\n\\n*(Based on your answer, I’d tailor the pitch. But here’s a general approach:)*  \\n\\n### **Why This Car?**  \\n1. **Cutting-Edge Technology** – This model comes with a **12-inch touchscreen**, Apple CarPlay/Android Auto, wireless charging, and a premium sound system. Plus, advanced safety features like **adaptive cruise control, lane-keeping assist, and automatic emergency braking** keep you protected.  \\n\\n2. **Power & Efficiency** – The turbocharged **2.0L engine** delivers **250 horsepower** while still getting **32 MPG highway**—perfect for both thrill-seekers and daily commuters.  \\n\\n3. **Luxury Comfort** – Heated/ventilated leather seats, dual-zone climate control, and a whisper-quiet cabin make every drive feel like first-class.  \\n\\n4. **Unbeatable Value** – With a **5-year/60,000-mile warranty** and low financing rates (starting at **2.9% APR**), you’re getting reliability *and* affordability.  \\n\\n### **Closing the Deal**  \\n*\"I’ve had customers say this car is the perfect blend of sporty and practical—would you like to take it for a test drive and feel the difference yourself?\"*  \\n\\n*(If you hesitate:)*  \\n*\"We also have special lease options—only **$399/month** with $2,000 down. And right now, we’re offering free maintenance for the first year!\"*  \\n\\n**What do you think?** Would you prefer a sedan, SUV, or something sportier? 😊  \\n\\n*(A good salesperson listens first—so I’d adjust based on your needs!)* 🚗💨', type='output_text')], role='assistant', status='completed', type='message'), type='message_output_item')"
      ]
     },
     "execution_count": 12,
     "metadata": {},
     "output_type": "execute_result"
    }
   ],
   "source": [
    "result.new_items[0]"
   ]
  },
  {
   "cell_type": "code",
   "execution_count": 13,
   "metadata": {},
   "outputs": [
    {
     "data": {
      "text/plain": [
       "agents.items.MessageOutputItem"
      ]
     },
     "execution_count": 13,
     "metadata": {},
     "output_type": "execute_result"
    }
   ],
   "source": [
    "type(result.new_items[0])\n"
   ]
  },
  {
   "cell_type": "code",
   "execution_count": 14,
   "metadata": {},
   "outputs": [
    {
     "data": {
      "text/plain": [
       "ResponseOutputMessage(id='__fake_id__', content=[ResponseOutputText(annotations=[], text='**Sales Pitch: Introducing the 2024 [Brand/Model] – The Perfect Car for You!**  \\n\\n**Me:** *\"Hello! I noticed you\\'re looking for a new car—what’s most important to you in your next vehicle? Performance, comfort, technology, or maybe fuel efficiency?\"*  \\n\\n*(Based on your answer, I’d tailor the pitch. But here’s a general approach:)*  \\n\\n### **Why This Car?**  \\n1. **Cutting-Edge Technology** – This model comes with a **12-inch touchscreen**, Apple CarPlay/Android Auto, wireless charging, and a premium sound system. Plus, advanced safety features like **adaptive cruise control, lane-keeping assist, and automatic emergency braking** keep you protected.  \\n\\n2. **Power & Efficiency** – The turbocharged **2.0L engine** delivers **250 horsepower** while still getting **32 MPG highway**—perfect for both thrill-seekers and daily commuters.  \\n\\n3. **Luxury Comfort** – Heated/ventilated leather seats, dual-zone climate control, and a whisper-quiet cabin make every drive feel like first-class.  \\n\\n4. **Unbeatable Value** – With a **5-year/60,000-mile warranty** and low financing rates (starting at **2.9% APR**), you’re getting reliability *and* affordability.  \\n\\n### **Closing the Deal**  \\n*\"I’ve had customers say this car is the perfect blend of sporty and practical—would you like to take it for a test drive and feel the difference yourself?\"*  \\n\\n*(If you hesitate:)*  \\n*\"We also have special lease options—only **$399/month** with $2,000 down. And right now, we’re offering free maintenance for the first year!\"*  \\n\\n**What do you think?** Would you prefer a sedan, SUV, or something sportier? 😊  \\n\\n*(A good salesperson listens first—so I’d adjust based on your needs!)* 🚗💨', type='output_text')], role='assistant', status='completed', type='message')"
      ]
     },
     "execution_count": 14,
     "metadata": {},
     "output_type": "execute_result"
    }
   ],
   "source": [
    "result.new_items[0].raw_item"
   ]
  },
  {
   "cell_type": "code",
   "execution_count": 15,
   "metadata": {},
   "outputs": [
    {
     "data": {
      "text/plain": [
       "[{'content': 'try to sale a car to me', 'role': 'user'},\n",
       " {'id': '__fake_id__',\n",
       "  'content': [{'annotations': [],\n",
       "    'text': '**Sales Pitch: Introducing the 2024 [Brand/Model] – The Perfect Car for You!**  \\n\\n**Me:** *\"Hello! I noticed you\\'re looking for a new car—what’s most important to you in your next vehicle? Performance, comfort, technology, or maybe fuel efficiency?\"*  \\n\\n*(Based on your answer, I’d tailor the pitch. But here’s a general approach:)*  \\n\\n### **Why This Car?**  \\n1. **Cutting-Edge Technology** – This model comes with a **12-inch touchscreen**, Apple CarPlay/Android Auto, wireless charging, and a premium sound system. Plus, advanced safety features like **adaptive cruise control, lane-keeping assist, and automatic emergency braking** keep you protected.  \\n\\n2. **Power & Efficiency** – The turbocharged **2.0L engine** delivers **250 horsepower** while still getting **32 MPG highway**—perfect for both thrill-seekers and daily commuters.  \\n\\n3. **Luxury Comfort** – Heated/ventilated leather seats, dual-zone climate control, and a whisper-quiet cabin make every drive feel like first-class.  \\n\\n4. **Unbeatable Value** – With a **5-year/60,000-mile warranty** and low financing rates (starting at **2.9% APR**), you’re getting reliability *and* affordability.  \\n\\n### **Closing the Deal**  \\n*\"I’ve had customers say this car is the perfect blend of sporty and practical—would you like to take it for a test drive and feel the difference yourself?\"*  \\n\\n*(If you hesitate:)*  \\n*\"We also have special lease options—only **$399/month** with $2,000 down. And right now, we’re offering free maintenance for the first year!\"*  \\n\\n**What do you think?** Would you prefer a sedan, SUV, or something sportier? 😊  \\n\\n*(A good salesperson listens first—so I’d adjust based on your needs!)* 🚗💨',\n",
       "    'type': 'output_text'}],\n",
       "  'role': 'assistant',\n",
       "  'status': 'completed',\n",
       "  'type': 'message'}]"
      ]
     },
     "execution_count": 15,
     "metadata": {},
     "output_type": "execute_result"
    }
   ],
   "source": [
    "result.to_input_list()\n"
   ]
  },
  {
   "cell_type": "code",
   "execution_count": 16,
   "metadata": {},
   "outputs": [
    {
     "data": {
      "text/plain": [
       "[{'content': 'try to sale a car to me', 'role': 'user'},\n",
       " {'id': '__fake_id__',\n",
       "  'content': [{'annotations': [],\n",
       "    'text': '**Sales Pitch: Introducing the 2024 [Brand/Model] – The Perfect Car for You!**  \\n\\n**Me:** *\"Hello! I noticed you\\'re looking for a new car—what’s most important to you in your next vehicle? Performance, comfort, technology, or maybe fuel efficiency?\"*  \\n\\n*(Based on your answer, I’d tailor the pitch. But here’s a general approach:)*  \\n\\n### **Why This Car?**  \\n1. **Cutting-Edge Technology** – This model comes with a **12-inch touchscreen**, Apple CarPlay/Android Auto, wireless charging, and a premium sound system. Plus, advanced safety features like **adaptive cruise control, lane-keeping assist, and automatic emergency braking** keep you protected.  \\n\\n2. **Power & Efficiency** – The turbocharged **2.0L engine** delivers **250 horsepower** while still getting **32 MPG highway**—perfect for both thrill-seekers and daily commuters.  \\n\\n3. **Luxury Comfort** – Heated/ventilated leather seats, dual-zone climate control, and a whisper-quiet cabin make every drive feel like first-class.  \\n\\n4. **Unbeatable Value** – With a **5-year/60,000-mile warranty** and low financing rates (starting at **2.9% APR**), you’re getting reliability *and* affordability.  \\n\\n### **Closing the Deal**  \\n*\"I’ve had customers say this car is the perfect blend of sporty and practical—would you like to take it for a test drive and feel the difference yourself?\"*  \\n\\n*(If you hesitate:)*  \\n*\"We also have special lease options—only **$399/month** with $2,000 down. And right now, we’re offering free maintenance for the first year!\"*  \\n\\n**What do you think?** Would you prefer a sedan, SUV, or something sportier? 😊  \\n\\n*(A good salesperson listens first—so I’d adjust based on your needs!)* 🚗💨',\n",
       "    'type': 'output_text'}],\n",
       "  'role': 'assistant',\n",
       "  'status': 'completed',\n",
       "  'type': 'message'}]"
      ]
     },
     "execution_count": 16,
     "metadata": {},
     "output_type": "execute_result"
    }
   ],
   "source": [
    "messages = result.to_input_list()\n",
    "messages"
   ]
  },
  {
   "cell_type": "code",
   "execution_count": 17,
   "metadata": {},
   "outputs": [
    {
     "data": {
      "text/plain": [
       "[{'content': 'try to sale a car to me', 'role': 'user'},\n",
       " {'id': '__fake_id__',\n",
       "  'content': [{'annotations': [],\n",
       "    'text': '**Sales Pitch: Introducing the 2024 [Brand/Model] – The Perfect Car for You!**  \\n\\n**Me:** *\"Hello! I noticed you\\'re looking for a new car—what’s most important to you in your next vehicle? Performance, comfort, technology, or maybe fuel efficiency?\"*  \\n\\n*(Based on your answer, I’d tailor the pitch. But here’s a general approach:)*  \\n\\n### **Why This Car?**  \\n1. **Cutting-Edge Technology** – This model comes with a **12-inch touchscreen**, Apple CarPlay/Android Auto, wireless charging, and a premium sound system. Plus, advanced safety features like **adaptive cruise control, lane-keeping assist, and automatic emergency braking** keep you protected.  \\n\\n2. **Power & Efficiency** – The turbocharged **2.0L engine** delivers **250 horsepower** while still getting **32 MPG highway**—perfect for both thrill-seekers and daily commuters.  \\n\\n3. **Luxury Comfort** – Heated/ventilated leather seats, dual-zone climate control, and a whisper-quiet cabin make every drive feel like first-class.  \\n\\n4. **Unbeatable Value** – With a **5-year/60,000-mile warranty** and low financing rates (starting at **2.9% APR**), you’re getting reliability *and* affordability.  \\n\\n### **Closing the Deal**  \\n*\"I’ve had customers say this car is the perfect blend of sporty and practical—would you like to take it for a test drive and feel the difference yourself?\"*  \\n\\n*(If you hesitate:)*  \\n*\"We also have special lease options—only **$399/month** with $2,000 down. And right now, we’re offering free maintenance for the first year!\"*  \\n\\n**What do you think?** Would you prefer a sedan, SUV, or something sportier? 😊  \\n\\n*(A good salesperson listens first—so I’d adjust based on your needs!)* 🚗💨',\n",
       "    'type': 'output_text'}],\n",
       "  'role': 'assistant',\n",
       "  'status': 'completed',\n",
       "  'type': 'message'},\n",
       " {'role': 'user', 'content': \"what's my last question\"}]"
      ]
     },
     "execution_count": 17,
     "metadata": {},
     "output_type": "execute_result"
    }
   ],
   "source": [
    "messages.append({\"role\": \"user\", \"content\":\"what's my last question\"})\n",
    "messages"
   ]
  },
  {
   "cell_type": "code",
   "execution_count": 18,
   "metadata": {},
   "outputs": [],
   "source": [
    "result1 = await Runner.run(agent, messages) "
   ]
  },
  {
   "cell_type": "code",
   "execution_count": 19,
   "metadata": {},
   "outputs": [
    {
     "data": {
      "text/plain": [
       "'Your last question was:  \\n\\n**\"what\\'s my last question\"**  \\n\\nAnd before that, you asked:  \\n**\"try to sale a car to me\"**  \\n\\nI responded with a full car sales pitch! 😊 Let me know if you\\'d like me to refine it further or focus on a specific type of vehicle (e.g., SUV, electric, luxury). Ready to \"sell\" whenever you are! 🚗💨'"
      ]
     },
     "execution_count": 19,
     "metadata": {},
     "output_type": "execute_result"
    }
   ],
   "source": [
    "result1.final_output"
   ]
  },
  {
   "cell_type": "code",
   "execution_count": 20,
   "metadata": {},
   "outputs": [
    {
     "data": {
      "text/plain": [
       "[MessageOutputItem(agent=Agent(name='Assistant', instructions='you are a smart automobile sealer', handoff_description=None, handoffs=[], model=<agents.models.openai_chatcompletions.OpenAIChatCompletionsModel object at 0x0000027ABCC7ECF0>, model_settings=ModelSettings(temperature=None, top_p=None, frequency_penalty=None, presence_penalty=None, tool_choice=None, parallel_tool_calls=None, truncation=None, max_tokens=None, reasoning=None, metadata=None, store=None), tools=[], mcp_servers=[], mcp_config={}, input_guardrails=[], output_guardrails=[], output_type=None, hooks=None, tool_use_behavior='run_llm_again', reset_tool_choice=True), raw_item=ResponseOutputMessage(id='__fake_id__', content=[ResponseOutputText(annotations=[], text='Your last question was:  \\n\\n**\"what\\'s my last question\"**  \\n\\nAnd before that, you asked:  \\n**\"try to sale a car to me\"**  \\n\\nI responded with a full car sales pitch! 😊 Let me know if you\\'d like me to refine it further or focus on a specific type of vehicle (e.g., SUV, electric, luxury). Ready to \"sell\" whenever you are! 🚗💨', type='output_text')], role='assistant', status='completed', type='message'), type='message_output_item')]"
      ]
     },
     "execution_count": 20,
     "metadata": {},
     "output_type": "execute_result"
    }
   ],
   "source": [
    "result1.new_items"
   ]
  },
  {
   "cell_type": "code",
   "execution_count": 21,
   "metadata": {},
   "outputs": [
    {
     "data": {
      "text/plain": [
       "[{'content': 'try to sale a car to me', 'role': 'user'},\n",
       " {'id': '__fake_id__',\n",
       "  'content': [{'annotations': [],\n",
       "    'text': '**Sales Pitch: Introducing the 2024 [Brand/Model] – The Perfect Car for You!**  \\n\\n**Me:** *\"Hello! I noticed you\\'re looking for a new car—what’s most important to you in your next vehicle? Performance, comfort, technology, or maybe fuel efficiency?\"*  \\n\\n*(Based on your answer, I’d tailor the pitch. But here’s a general approach:)*  \\n\\n### **Why This Car?**  \\n1. **Cutting-Edge Technology** – This model comes with a **12-inch touchscreen**, Apple CarPlay/Android Auto, wireless charging, and a premium sound system. Plus, advanced safety features like **adaptive cruise control, lane-keeping assist, and automatic emergency braking** keep you protected.  \\n\\n2. **Power & Efficiency** – The turbocharged **2.0L engine** delivers **250 horsepower** while still getting **32 MPG highway**—perfect for both thrill-seekers and daily commuters.  \\n\\n3. **Luxury Comfort** – Heated/ventilated leather seats, dual-zone climate control, and a whisper-quiet cabin make every drive feel like first-class.  \\n\\n4. **Unbeatable Value** – With a **5-year/60,000-mile warranty** and low financing rates (starting at **2.9% APR**), you’re getting reliability *and* affordability.  \\n\\n### **Closing the Deal**  \\n*\"I’ve had customers say this car is the perfect blend of sporty and practical—would you like to take it for a test drive and feel the difference yourself?\"*  \\n\\n*(If you hesitate:)*  \\n*\"We also have special lease options—only **$399/month** with $2,000 down. And right now, we’re offering free maintenance for the first year!\"*  \\n\\n**What do you think?** Would you prefer a sedan, SUV, or something sportier? 😊  \\n\\n*(A good salesperson listens first—so I’d adjust based on your needs!)* 🚗💨',\n",
       "    'type': 'output_text'}],\n",
       "  'role': 'assistant',\n",
       "  'status': 'completed',\n",
       "  'type': 'message'},\n",
       " {'role': 'user', 'content': \"what's my last question\"},\n",
       " {'id': '__fake_id__',\n",
       "  'content': [{'annotations': [],\n",
       "    'text': 'Your last question was:  \\n\\n**\"what\\'s my last question\"**  \\n\\nAnd before that, you asked:  \\n**\"try to sale a car to me\"**  \\n\\nI responded with a full car sales pitch! 😊 Let me know if you\\'d like me to refine it further or focus on a specific type of vehicle (e.g., SUV, electric, luxury). Ready to \"sell\" whenever you are! 🚗💨',\n",
       "    'type': 'output_text'}],\n",
       "  'role': 'assistant',\n",
       "  'status': 'completed',\n",
       "  'type': 'message'}]"
      ]
     },
     "execution_count": 21,
     "metadata": {},
     "output_type": "execute_result"
    }
   ],
   "source": [
    "result1.to_input_list()"
   ]
  },
  {
   "cell_type": "code",
   "execution_count": 22,
   "metadata": {},
   "outputs": [],
   "source": [
    "from IPython.display import display, Code, Markdown, Image\n",
    "\n",
    "async def chat(Agent):\n",
    "    input_items = []\n",
    "    while True:\n",
    "        user_input = input(\"💬 type your input here（type quit to exit）：\")\n",
    "        if user_input.lower() in [\"exit\", \"quit\"]:\n",
    "            print(\"✅ dialog is over\")\n",
    "            break\n",
    "\n",
    "        input_items.append({\"content\": user_input, \"role\": \"user\"})\n",
    "        result = await Runner.run(Agent, input_items)\n",
    "\n",
    "        display(Markdown(result.final_output))\n",
    "\n",
    "        input_items = result.to_input_list()"
   ]
  },
  {
   "cell_type": "code",
   "execution_count": 23,
   "metadata": {},
   "outputs": [
    {
     "data": {
      "text/markdown": [
       "Sure! Here's a car-themed joke for you:  \n",
       "\n",
       "**Why did the scarecrow become a successful car salesman?**  \n",
       "Because he was outstanding in his field—and he knew how to *drive* a hard bargain!  \n",
       "\n",
       "🚗😄  \n",
       "\n",
       "Let me know if you'd like another one!"
      ],
      "text/plain": [
       "<IPython.core.display.Markdown object>"
      ]
     },
     "metadata": {},
     "output_type": "display_data"
    },
    {
     "data": {
      "text/markdown": [
       "Here’s a classic German-style joke for you:  \n",
       "\n",
       "**Warum tragen deutsche Bäume keine Blätter?** *(Why don’t German trees have leaves?)*  \n",
       "**Weil sie sich an die *Blatt*-vorschriften halten!** *(Because they follow the *Blatt*-regulations!)*  \n",
       "\n",
       "(It’s a pun on *\"Blatt\"* (leaf) and *\"Vorschrift\"* (regulation), poking fun at Germany’s love of rules. 😄  \n",
       "\n",
       "Want another one?"
      ],
      "text/plain": [
       "<IPython.core.display.Markdown object>"
      ]
     },
     "metadata": {},
     "output_type": "display_data"
    },
    {
     "name": "stdout",
     "output_type": "stream",
     "text": [
      "✅ dialog is over\n"
     ]
    }
   ],
   "source": [
    "await chat(agent)"
   ]
  },
  {
   "cell_type": "markdown",
   "metadata": {},
   "source": [
    "## call user agent"
   ]
  },
  {
   "cell_type": "code",
   "execution_count": 24,
   "metadata": {},
   "outputs": [],
   "source": [
    "from agents import function_tool\n",
    "import requests,json\n"
   ]
  },
  {
   "cell_type": "code",
   "execution_count": 25,
   "metadata": {},
   "outputs": [],
   "source": [
    "@function_tool\n",
    "def python_inter(py_code):\n",
    "    \"\"\"\n",
    "    run the pytyhon code and return the result\n",
    "\n",
    "    :param py_code: python code in string format\n",
    "    :return: the final result of the code execution\n",
    "    \"\"\"\n",
    "    g = globals()\n",
    "    \n",
    "    try:\n",
    "        # if it is an expression, run it and return the result\n",
    "        result = eval(py_code, g)\n",
    "        return json.dumps(str(result), ensure_ascii=False)\n",
    "    \n",
    "    except Exception:\n",
    "        global_vars_before = set(g.keys())\n",
    "        try:\n",
    "            exec(py_code, g)\n",
    "        except Exception as e:\n",
    "            return json.dumps(f\"code error: {e}\", ensure_ascii=False)\n",
    "\n",
    "        global_vars_after = set(g.keys())\n",
    "        new_vars = global_vars_after - global_vars_before\n",
    "\n",
    "        if new_vars:\n",
    "            # only return the serializable variable values\n",
    "            safe_result = {}\n",
    "            for var in new_vars:\n",
    "                try:\n",
    "                    json.dumps(g[var])  \n",
    "                    safe_result[var] = g[var]\n",
    "                except (TypeError, OverflowError):\n",
    "                    safe_result[var] = str(g[var])  \n",
    "\n",
    "            return json.dumps(safe_result, ensure_ascii=False)\n",
    "        \n",
    "        else:\n",
    "            return json.dumps(\"code works\", ensure_ascii=False)\n"
   ]
  },
  {
   "cell_type": "code",
   "execution_count": 26,
   "metadata": {},
   "outputs": [],
   "source": [
    "python_agent = Agent(\n",
    "    name=\"python_agent\",\n",
    "   instructions =\"you are a helpful assistant, and can call the local Python environment for programming\",\n",
    "    tools=[python_inter],\n",
    "    model=deepseek_model\n",
    ")\n"
   ]
  },
  {
   "cell_type": "code",
   "execution_count": 28,
   "metadata": {},
   "outputs": [
    {
     "data": {
      "image/png": "[encoded data removed]",
      "text/plain": [
       "<Figure size 1000x500 with 1 Axes>"
      ]
     },
     "metadata": {},
     "output_type": "display_data"
    }
   ],
   "source": [
    "python_result = await Runner.run(python_agent, input=\"please help me simulate a sine data in python, and draw a plot for it\")\n"
   ]
  },
  {
   "cell_type": "code",
   "execution_count": 29,
   "metadata": {},
   "outputs": [
    {
     "data": {
      "text/plain": [
       "'Here is the simulated sine wave data and its plot:\\n\\n### Data Points (x and y values):\\n- **x**: Values range from 0 to \\\\(2\\\\pi\\\\) (approximately 6.283 radians).\\n- **y**: Corresponding sine values of x.\\n\\n### Plot:\\nThe plot displays a smooth sine wave oscillating between -1 and 1 over the interval \\\\([0, 2\\\\pi]\\\\).\\n\\n### Visualization:\\nThe plot includes:\\n- A title: \"Sine Wave Simulation\"\\n- Labeled x-axis: \"x (radians)\"\\n- Labeled y-axis: \"sin(x)\"\\n- A legend for the sine wave\\n- Grid lines for better readability\\n\\nHere is the plot for your reference:\\n\\n![Sine Wave Plot](data:image/png;base64,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'"
      ]
     },
     "execution_count": 29,
     "metadata": {},
     "output_type": "execute_result"
    }
   ],
   "source": [
    "python_result.final_output"
   ]
  },
  {
   "cell_type": "markdown",
   "metadata": {},
   "source": [
    "## multi-agents && handoff"
   ]
  },
  {
   "cell_type": "code",
   "execution_count": 30,
   "metadata": {},
   "outputs": [],
   "source": [
    "chinese_agent = Agent(\n",
    "    name=\"Chinese agent\",\n",
    "    instructions=\"you can only reply in Chinese.\",\n",
    "    model=deepseek_model\n",
    ")\n",
    "\n",
    "english_agent = Agent(\n",
    "    name=\"English agent\",\n",
    "    instructions=\"you can only reply in English.\",\n",
    "    model=deepseek_model\n",
    ")\n"
   ]
  },
  {
   "cell_type": "code",
   "execution_count": 31,
   "metadata": {},
   "outputs": [
    {
     "data": {
      "text/plain": [
       "'你好！'"
      ]
     },
     "execution_count": 31,
     "metadata": {},
     "output_type": "execute_result"
    }
   ],
   "source": [
    "res1 = await Runner.run(chinese_agent, input=\"hello.\")\n",
    "res1.final_output\n"
   ]
  },
  {
   "cell_type": "code",
   "execution_count": 32,
   "metadata": {},
   "outputs": [
    {
     "data": {
      "text/plain": [
       "'Hello! How can I assist you today? 😊'"
      ]
     },
     "execution_count": 32,
     "metadata": {},
     "output_type": "execute_result"
    }
   ],
   "source": [
    "res2 = await Runner.run(english_agent, input=\"hello.\")\n",
    "res2.final_output\n"
   ]
  },
  {
   "cell_type": "code",
   "execution_count": 33,
   "metadata": {},
   "outputs": [],
   "source": [
    "triage_agent = Agent(\n",
    "    name=\"triage agent\",\n",
    "    instructions=\"please triage the request and assign it to the appropriate agent.\",\n",
    "    handoffs=[chinese_agent, english_agent],\n",
    "    model=deepseek_model\n",
    ")\n"
   ]
  },
  {
   "cell_type": "code",
   "execution_count": 34,
   "metadata": {},
   "outputs": [
    {
     "data": {
      "text/plain": [
       "'已为您转接中文客服。'"
      ]
     },
     "execution_count": 34,
     "metadata": {},
     "output_type": "execute_result"
    }
   ],
   "source": [
    "res = await Runner.run(triage_agent, input=\"你好。\")\n",
    "res.final_output\n"
   ]
  },
  {
   "cell_type": "code",
   "execution_count": 35,
   "metadata": {},
   "outputs": [
    {
     "data": {
      "text/plain": [
       "3"
      ]
     },
     "execution_count": 35,
     "metadata": {},
     "output_type": "execute_result"
    }
   ],
   "source": [
    "len(res.new_items)\n"
   ]
  },
  {
   "cell_type": "code",
   "execution_count": 36,
   "metadata": {},
   "outputs": [
    {
     "data": {
      "text/plain": [
       "HandoffCallItem(agent=Agent(name='triage agent', instructions='please triage the request and assign it to the appropriate agent.', handoff_description=None, handoffs=[Agent(name='Chinese agent', instructions='you can only reply in Chinese.', handoff_description=None, handoffs=[], model=<agents.models.openai_chatcompletions.OpenAIChatCompletionsModel object at 0x0000027ABCC7ECF0>, model_settings=ModelSettings(temperature=None, top_p=None, frequency_penalty=None, presence_penalty=None, tool_choice=None, parallel_tool_calls=None, truncation=None, max_tokens=None, reasoning=None, metadata=None, store=None), tools=[], mcp_servers=[], mcp_config={}, input_guardrails=[], output_guardrails=[], output_type=None, hooks=None, tool_use_behavior='run_llm_again', reset_tool_choice=True), Agent(name='English agent', instructions='you can only reply in English.', handoff_description=None, handoffs=[], model=<agents.models.openai_chatcompletions.OpenAIChatCompletionsModel object at 0x0000027ABCC7ECF0>, model_settings=ModelSettings(temperature=None, top_p=None, frequency_penalty=None, presence_penalty=None, tool_choice=None, parallel_tool_calls=None, truncation=None, max_tokens=None, reasoning=None, metadata=None, store=None), tools=[], mcp_servers=[], mcp_config={}, input_guardrails=[], output_guardrails=[], output_type=None, hooks=None, tool_use_behavior='run_llm_again', reset_tool_choice=True)], model=<agents.models.openai_chatcompletions.OpenAIChatCompletionsModel object at 0x0000027ABCC7ECF0>, model_settings=ModelSettings(temperature=None, top_p=None, frequency_penalty=None, presence_penalty=None, tool_choice=None, parallel_tool_calls=None, truncation=None, max_tokens=None, reasoning=None, metadata=None, store=None), tools=[], mcp_servers=[], mcp_config={}, input_guardrails=[], output_guardrails=[], output_type=None, hooks=None, tool_use_behavior='run_llm_again', reset_tool_choice=True), raw_item=ResponseFunctionToolCall(arguments='{}', call_id='call_0_e74e0045-2257-4702-a17c-ede45322d982', name='transfer_to_chinese_agent', type='function_call', id='__fake_id__', status=None), type='handoff_call_item')"
      ]
     },
     "execution_count": 36,
     "metadata": {},
     "output_type": "execute_result"
    }
   ],
   "source": [
    "res.new_items[0]\n"
   ]
  },
  {
   "cell_type": "code",
   "execution_count": 37,
   "metadata": {},
   "outputs": [
    {
     "data": {
      "text/plain": [
       "ResponseFunctionToolCall(arguments='{}', call_id='call_0_e74e0045-2257-4702-a17c-ede45322d982', name='transfer_to_chinese_agent', type='function_call', id='__fake_id__', status=None)"
      ]
     },
     "execution_count": 37,
     "metadata": {},
     "output_type": "execute_result"
    }
   ],
   "source": [
    "res.new_items[0].raw_item\n"
   ]
  },
  {
   "cell_type": "code",
   "execution_count": 38,
   "metadata": {},
   "outputs": [
    {
     "data": {
      "text/plain": [
       "HandoffOutputItem(agent=Agent(name='triage agent', instructions='please triage the request and assign it to the appropriate agent.', handoff_description=None, handoffs=[Agent(name='Chinese agent', instructions='you can only reply in Chinese.', handoff_description=None, handoffs=[], model=<agents.models.openai_chatcompletions.OpenAIChatCompletionsModel object at 0x0000027ABCC7ECF0>, model_settings=ModelSettings(temperature=None, top_p=None, frequency_penalty=None, presence_penalty=None, tool_choice=None, parallel_tool_calls=None, truncation=None, max_tokens=None, reasoning=None, metadata=None, store=None), tools=[], mcp_servers=[], mcp_config={}, input_guardrails=[], output_guardrails=[], output_type=None, hooks=None, tool_use_behavior='run_llm_again', reset_tool_choice=True), Agent(name='English agent', instructions='you can only reply in English.', handoff_description=None, handoffs=[], model=<agents.models.openai_chatcompletions.OpenAIChatCompletionsModel object at 0x0000027ABCC7ECF0>, model_settings=ModelSettings(temperature=None, top_p=None, frequency_penalty=None, presence_penalty=None, tool_choice=None, parallel_tool_calls=None, truncation=None, max_tokens=None, reasoning=None, metadata=None, store=None), tools=[], mcp_servers=[], mcp_config={}, input_guardrails=[], output_guardrails=[], output_type=None, hooks=None, tool_use_behavior='run_llm_again', reset_tool_choice=True)], model=<agents.models.openai_chatcompletions.OpenAIChatCompletionsModel object at 0x0000027ABCC7ECF0>, model_settings=ModelSettings(temperature=None, top_p=None, frequency_penalty=None, presence_penalty=None, tool_choice=None, parallel_tool_calls=None, truncation=None, max_tokens=None, reasoning=None, metadata=None, store=None), tools=[], mcp_servers=[], mcp_config={}, input_guardrails=[], output_guardrails=[], output_type=None, hooks=None, tool_use_behavior='run_llm_again', reset_tool_choice=True), raw_item={'call_id': 'call_0_e74e0045-2257-4702-a17c-ede45322d982', 'output': \"{'assistant': 'Chinese agent'}\", 'type': 'function_call_output'}, source_agent=Agent(name='triage agent', instructions='please triage the request and assign it to the appropriate agent.', handoff_description=None, handoffs=[Agent(name='Chinese agent', instructions='you can only reply in Chinese.', handoff_description=None, handoffs=[], model=<agents.models.openai_chatcompletions.OpenAIChatCompletionsModel object at 0x0000027ABCC7ECF0>, model_settings=ModelSettings(temperature=None, top_p=None, frequency_penalty=None, presence_penalty=None, tool_choice=None, parallel_tool_calls=None, truncation=None, max_tokens=None, reasoning=None, metadata=None, store=None), tools=[], mcp_servers=[], mcp_config={}, input_guardrails=[], output_guardrails=[], output_type=None, hooks=None, tool_use_behavior='run_llm_again', reset_tool_choice=True), Agent(name='English agent', instructions='you can only reply in English.', handoff_description=None, handoffs=[], model=<agents.models.openai_chatcompletions.OpenAIChatCompletionsModel object at 0x0000027ABCC7ECF0>, model_settings=ModelSettings(temperature=None, top_p=None, frequency_penalty=None, presence_penalty=None, tool_choice=None, parallel_tool_calls=None, truncation=None, max_tokens=None, reasoning=None, metadata=None, store=None), tools=[], mcp_servers=[], mcp_config={}, input_guardrails=[], output_guardrails=[], output_type=None, hooks=None, tool_use_behavior='run_llm_again', reset_tool_choice=True)], model=<agents.models.openai_chatcompletions.OpenAIChatCompletionsModel object at 0x0000027ABCC7ECF0>, model_settings=ModelSettings(temperature=None, top_p=None, frequency_penalty=None, presence_penalty=None, tool_choice=None, parallel_tool_calls=None, truncation=None, max_tokens=None, reasoning=None, metadata=None, store=None), tools=[], mcp_servers=[], mcp_config={}, input_guardrails=[], output_guardrails=[], output_type=None, hooks=None, tool_use_behavior='run_llm_again', reset_tool_choice=True), target_agent=Agent(name='Chinese agent', instructions='you can only reply in Chinese.', handoff_description=None, handoffs=[], model=<agents.models.openai_chatcompletions.OpenAIChatCompletionsModel object at 0x0000027ABCC7ECF0>, model_settings=ModelSettings(temperature=None, top_p=None, frequency_penalty=None, presence_penalty=None, tool_choice=None, parallel_tool_calls=None, truncation=None, max_tokens=None, reasoning=None, metadata=None, store=None), tools=[], mcp_servers=[], mcp_config={}, input_guardrails=[], output_guardrails=[], output_type=None, hooks=None, tool_use_behavior='run_llm_again', reset_tool_choice=True), type='handoff_output_item')"
      ]
     },
     "execution_count": 38,
     "metadata": {},
     "output_type": "execute_result"
    }
   ],
   "source": [
    "res.new_items[1]\n"
   ]
  },
  {
   "cell_type": "code",
   "execution_count": 39,
   "metadata": {},
   "outputs": [
    {
     "data": {
      "text/plain": [
       "{'call_id': 'call_0_e74e0045-2257-4702-a17c-ede45322d982',\n",
       " 'output': \"{'assistant': 'Chinese agent'}\",\n",
       " 'type': 'function_call_output'}"
      ]
     },
     "execution_count": 39,
     "metadata": {},
     "output_type": "execute_result"
    }
   ],
   "source": [
    "res.new_items[1].raw_item\n"
   ]
  },
  {
   "cell_type": "code",
   "execution_count": 40,
   "metadata": {},
   "outputs": [
    {
     "data": {
      "text/plain": [
       "MessageOutputItem(agent=Agent(name='Chinese agent', instructions='you can only reply in Chinese.', handoff_description=None, handoffs=[], model=<agents.models.openai_chatcompletions.OpenAIChatCompletionsModel object at 0x0000027ABCC7ECF0>, model_settings=ModelSettings(temperature=None, top_p=None, frequency_penalty=None, presence_penalty=None, tool_choice=None, parallel_tool_calls=None, truncation=None, max_tokens=None, reasoning=None, metadata=None, store=None), tools=[], mcp_servers=[], mcp_config={}, input_guardrails=[], output_guardrails=[], output_type=None, hooks=None, tool_use_behavior='run_llm_again', reset_tool_choice=True), raw_item=ResponseOutputMessage(id='__fake_id__', content=[ResponseOutputText(annotations=[], text='已为您转接中文客服。', type='output_text')], role='assistant', status='completed', type='message'), type='message_output_item')"
      ]
     },
     "execution_count": 40,
     "metadata": {},
     "output_type": "execute_result"
    }
   ],
   "source": [
    "res.new_items[2]\n"
   ]
  },
  {
   "cell_type": "code",
   "execution_count": 41,
   "metadata": {},
   "outputs": [
    {
     "data": {
      "text/plain": [
       "ResponseOutputMessage(id='__fake_id__', content=[ResponseOutputText(annotations=[], text='已为您转接中文客服。', type='output_text')], role='assistant', status='completed', type='message')"
      ]
     },
     "execution_count": 41,
     "metadata": {},
     "output_type": "execute_result"
    }
   ],
   "source": [
    "res.new_items[2].raw_item\n"
   ]
  },
  {
   "cell_type": "code",
   "execution_count": 42,
   "metadata": {},
   "outputs": [
    {
     "data": {
      "text/plain": [
       "Agent(name='Chinese agent', instructions='you can only reply in Chinese.', handoff_description=None, handoffs=[], model=<agents.models.openai_chatcompletions.OpenAIChatCompletionsModel object at 0x0000027ABCC7ECF0>, model_settings=ModelSettings(temperature=None, top_p=None, frequency_penalty=None, presence_penalty=None, tool_choice=None, parallel_tool_calls=None, truncation=None, max_tokens=None, reasoning=None, metadata=None, store=None), tools=[], mcp_servers=[], mcp_config={}, input_guardrails=[], output_guardrails=[], output_type=None, hooks=None, tool_use_behavior='run_llm_again', reset_tool_choice=True)"
      ]
     },
     "execution_count": 42,
     "metadata": {},
     "output_type": "execute_result"
    }
   ],
   "source": [
    "res.last_agent\n"
   ]
  },
  {
   "cell_type": "code",
   "execution_count": 43,
   "metadata": {},
   "outputs": [
    {
     "data": {
      "text/plain": [
       "'你好！有什么可以帮你的吗？'"
      ]
     },
     "execution_count": 43,
     "metadata": {},
     "output_type": "execute_result"
    }
   ],
   "source": [
    "res3 = await Runner.run(res.last_agent, input=\"Hello\")\n",
    "res3.final_output\n"
   ]
  },
  {
   "cell_type": "code",
   "execution_count": 44,
   "metadata": {},
   "outputs": [
    {
     "data": {
      "text/plain": [
       "1"
      ]
     },
     "execution_count": 44,
     "metadata": {},
     "output_type": "execute_result"
    }
   ],
   "source": [
    "len(res3.new_items)\n"
   ]
  },
  {
   "cell_type": "code",
   "execution_count": 45,
   "metadata": {},
   "outputs": [
    {
     "data": {
      "text/plain": [
       "ResponseOutputMessage(id='__fake_id__', content=[ResponseOutputText(annotations=[], text='你好！有什么可以帮你的吗？', type='output_text')], role='assistant', status='completed', type='message')"
      ]
     },
     "execution_count": 45,
     "metadata": {},
     "output_type": "execute_result"
    }
   ],
   "source": [
    "res3.new_items[0].raw_item\n"
   ]
  },
  {
   "cell_type": "code",
   "execution_count": 46,
   "metadata": {},
   "outputs": [
    {
     "data": {
      "text/plain": [
       "\"Hello! I'm here to assist you in English. How can I help you today?\""
      ]
     },
     "execution_count": 46,
     "metadata": {},
     "output_type": "execute_result"
    }
   ],
   "source": [
    "res4 = await Runner.run(triage_agent, input=\"Hola, ¿cómo estás?\")\n",
    "res4.final_output\n"
   ]
  },
  {
   "cell_type": "code",
   "execution_count": 47,
   "metadata": {},
   "outputs": [
    {
     "data": {
      "text/plain": [
       "3"
      ]
     },
     "execution_count": 47,
     "metadata": {},
     "output_type": "execute_result"
    }
   ],
   "source": [
    "len(res4.new_items)\n"
   ]
  },
  {
   "cell_type": "code",
   "execution_count": 48,
   "metadata": {},
   "outputs": [
    {
     "name": "stdout",
     "output_type": "stream",
     "text": [
      "\u001b[31mInit signature:\u001b[39m\n",
      "Agent(\n",
      "    name: \u001b[33m'str'\u001b[39m,\n",
      "    instructions: \u001b[33m'str | Callable[[RunContextWrapper[TContext], Agent[TContext]], MaybeAwaitable[str]] | None'\u001b[39m = \u001b[38;5;28;01mNone\u001b[39;00m,\n",
      "    handoff_description: \u001b[33m'str | None'\u001b[39m = \u001b[38;5;28;01mNone\u001b[39;00m,\n",
      "    handoffs: \u001b[33m'list[Agent[Any] | Handoff[TContext]]'\u001b[39m = <factory>,\n",
      "    model: \u001b[33m'str | Model | None'\u001b[39m = \u001b[38;5;28;01mNone\u001b[39;00m,\n",
      "    model_settings: \u001b[33m'ModelSettings'\u001b[39m = <factory>,\n",
      "    tools: \u001b[33m'list[Tool]'\u001b[39m = <factory>,\n",
      "    mcp_servers: \u001b[33m'list[MCPServer]'\u001b[39m = <factory>,\n",
      "    mcp_config: \u001b[33m'MCPConfig'\u001b[39m = <factory>,\n",
      "    input_guardrails: \u001b[33m'list[InputGuardrail[TContext]]'\u001b[39m = <factory>,\n",
      "    output_guardrails: \u001b[33m'list[OutputGuardrail[TContext]]'\u001b[39m = <factory>,\n",
      "    output_type: \u001b[33m'type[Any] | None'\u001b[39m = \u001b[38;5;28;01mNone\u001b[39;00m,\n",
      "    hooks: \u001b[33m'AgentHooks[TContext] | None'\u001b[39m = \u001b[38;5;28;01mNone\u001b[39;00m,\n",
      "    tool_use_behavior: \u001b[33m\"Literal['run_llm_again', 'stop_on_first_tool'] | StopAtTools | ToolsToFinalOutputFunction\"\u001b[39m = \u001b[33m'run_llm_again'\u001b[39m,\n",
      "    reset_tool_choice: \u001b[33m'bool'\u001b[39m = \u001b[38;5;28;01mTrue\u001b[39;00m,\n",
      ") -> \u001b[38;5;28;01mNone\u001b[39;00m\n",
      "\u001b[31mDocstring:\u001b[39m     \n",
      "An agent is an AI model configured with instructions, tools, guardrails, handoffs and more.\n",
      "\n",
      "We strongly recommend passing `instructions`, which is the \"system prompt\" for the agent. In\n",
      "addition, you can pass `handoff_description`, which is a human-readable description of the\n",
      "agent, used when the agent is used inside tools/handoffs.\n",
      "\n",
      "Agents are generic on the context type. The context is a (mutable) object you create. It is\n",
      "passed to tool functions, handoffs, guardrails, etc.\n",
      "\u001b[31mFile:\u001b[39m           c:\\code\\hackthon2025\\autovend\\scripts\\.venv\\lib\\site-packages\\agents\\agent.py\n",
      "\u001b[31mType:\u001b[39m           type\n",
      "\u001b[31mSubclasses:\u001b[39m     "
     ]
    }
   ],
   "source": [
    "Agent?\n"
   ]
  },
  {
   "cell_type": "code",
   "execution_count": 52,
   "metadata": {},
   "outputs": [],
   "source": [
    "# use handoff_description to describe the handoff\n",
    "chinese_agent = Agent(\n",
    "    name=\"Chinese agent\",\n",
    "    instructions = \"you can only reply in Chinese.\",\n",
    "    handoff_description=\"when the user input is not in English, call this agent to answer the user's question.\",\n",
    "    model=deepseek_model\n",
    ")\n",
    "\n",
    "english_agent = Agent(\n",
    "    name=\"English agent\",\n",
    "    instructions=\"you can only reply in English。\",\n",
    "    handoff_description = \"when the user input is in English, call this agent to answer the user's question.\",\n",
    "    model=deepseek_model\n",
    ")\n"
   ]
  },
  {
   "cell_type": "code",
   "execution_count": 53,
   "metadata": {},
   "outputs": [],
   "source": [
    "triage_agent = Agent(\n",
    "    name=\"traige agent\",\n",
    "    instructions = \"please traige the input to the right agent\",\n",
    "    handoffs=[chinese_agent, english_agent],\n",
    "    model=deepseek_model\n",
    ")\n"
   ]
  },
  {
   "cell_type": "code",
   "execution_count": 54,
   "metadata": {},
   "outputs": [
    {
     "data": {
      "text/plain": [
       "'你好！我在这里用中文为您服务，请问有什么可以帮您的吗？'"
      ]
     },
     "execution_count": 54,
     "metadata": {},
     "output_type": "execute_result"
    }
   ],
   "source": [
    "res5 = await Runner.run(triage_agent, input=\"Hola, ¿cómo estás?\")\n",
    "res5.final_output"
   ]
  },
  {
   "cell_type": "code",
   "execution_count": 55,
   "metadata": {},
   "outputs": [
    {
     "data": {
      "text/plain": [
       "Agent(name='traige agent', instructions='please traige the input to the right agent', handoff_description=None, handoffs=[Agent(name='Chinese agent', instructions='you can only reply in Chinese.', handoff_description=\"when the user input is not in English, call this agent to answer the user's question.\", handoffs=[], model=<agents.models.openai_chatcompletions.OpenAIChatCompletionsModel object at 0x0000027ABCC7ECF0>, model_settings=ModelSettings(temperature=None, top_p=None, frequency_penalty=None, presence_penalty=None, tool_choice=None, parallel_tool_calls=None, truncation=None, max_tokens=None, reasoning=None, metadata=None, store=None), tools=[], mcp_servers=[], mcp_config={}, input_guardrails=[], output_guardrails=[], output_type=None, hooks=None, tool_use_behavior='run_llm_again', reset_tool_choice=True), Agent(name='English agent', instructions='you can only reply in English。', handoff_description=\"when the user input is in English, call this agent to answer the user's question.\", handoffs=[], model=<agents.models.openai_chatcompletions.OpenAIChatCompletionsModel object at 0x0000027ABCC7ECF0>, model_settings=ModelSettings(temperature=None, top_p=None, frequency_penalty=None, presence_penalty=None, tool_choice=None, parallel_tool_calls=None, truncation=None, max_tokens=None, reasoning=None, metadata=None, store=None), tools=[], mcp_servers=[], mcp_config={}, input_guardrails=[], output_guardrails=[], output_type=None, hooks=None, tool_use_behavior='run_llm_again', reset_tool_choice=True)], model=<agents.models.openai_chatcompletions.OpenAIChatCompletionsModel object at 0x0000027ABCC7ECF0>, model_settings=ModelSettings(temperature=None, top_p=None, frequency_penalty=None, presence_penalty=None, tool_choice=None, parallel_tool_calls=None, truncation=None, max_tokens=None, reasoning=None, metadata=None, store=None), tools=[], mcp_servers=[], mcp_config={}, input_guardrails=[], output_guardrails=[], output_type=None, hooks=None, tool_use_behavior='run_llm_again', reset_tool_choice=True)"
      ]
     },
     "execution_count": 55,
     "metadata": {},
     "output_type": "execute_result"
    }
   ],
   "source": [
    "triage_agent\n"
   ]
  },
  {
   "cell_type": "markdown",
   "metadata": {},
   "source": [
    "## more complex saler example"
   ]
  },
  {
   "cell_type": "code",
   "execution_count": null,
   "metadata": {},
   "outputs": [],
   "source": []
  }
 ],
 "metadata": {
  "kernelspec": {
   "display_name": ".venv",
   "language": "python",
   "name": "python3"
  },
  "language_info": {
   "codemirror_mode": {
    "name": "ipython",
    "version": 3
   },
   "file_extension": ".py",
   "mimetype": "text/x-python",
   "name": "python",
   "nbconvert_exporter": "python",
   "pygments_lexer": "ipython3",
   "version": "3.13.0"
  }
 },
 "nbformat": 4,
 "nbformat_minor": 2
}
